{
 "cells": [
  {
   "cell_type": "code",
   "execution_count": null,
   "metadata": {},
   "outputs": [],
   "source": [
    "# Import statements\n",
    "import numpy as np\n",
    "import matplotlib.pyplot as pt\n",
    "import glob\n",
    "import os\n",
    "\n",
    "from ase.io import read\n",
    "from pyiron import Project, ase_to_pyiron\n",
    "\n",
    "from molmod.units import *\n",
    "from molmod.constants import *\n",
    "\n",
    "from collections import namedtuple\n",
    "from dataclasses import dataclass # replaces namedtuple with mutable attributes\n",
    "%matplotlib inline\n"
   ]
  },
  {
   "cell_type": "markdown",
   "metadata": {},
   "source": [
    "### Functions"
   ]
  },
  {
   "cell_type": "code",
   "execution_count": null,
   "metadata": {},
   "outputs": [],
   "source": [
    "# Static and dynamic jobtypes for GPXRD module\n",
    "def static_PXRD_job(pr,name,structure,wavelength=1.54056,refpattern=None,cluster='victini',run_time=15*60):\n",
    "    job = pr.create_job(pr.job_type.GPXRD, name, delete_existing_job=True)\n",
    "    job.structure = structure\n",
    "    job.input['jobtype'] = 'static'\n",
    "    job.input['numpoints'] = 1001 \n",
    "    job.input['wavelength'] = wavelength # in angstrom\n",
    "    \n",
    "    if refpattern is not None:\n",
    "        job.set_reference_pattern(refpattern)\n",
    "    \n",
    "    # Submit this job to the queue\n",
    "    job.server.queue = cluster\n",
    "    job.server.cores = 1 \n",
    "    job.server.run_time = run_time # in seconds\n",
    "\n",
    "    job.run()\n",
    "    #return job\n",
    "\n",
    "def dynamic_PXRD_job(pr,name,xyz_traj,wavelength=1.54056,refpattern=None,start=0,stop=-1,num_frames=50,cluster='victini',run_time=15*60):\n",
    "    job = pr.create_job(pr.job_type.GPXRD, name, delete_existing_job=True)\n",
    "    job.load_trajectory(xyz_traj,start=start,stop=stop,num_frames=num_frames)\n",
    "    \n",
    "    job.input['numpoints'] = 1001\n",
    "    job.input['wavelength'] = wavelength # in angstrom\n",
    "    \n",
    "    if refpattern is not None:\n",
    "        job.set_reference_pattern(refpattern)\n",
    "    \n",
    "    # We dont want individual fhkl indices\n",
    "    job.input['save_fhkl'] = False\n",
    "    \n",
    "    # Submit this job to the queue\n",
    "    job.server.queue = cluster\n",
    "    job.server.cores = 1\n",
    "    job.server.run_time = run_time # in seconds\n",
    "\n",
    "    job.run()\n",
    "    #return job"
   ]
  },
  {
   "cell_type": "code",
   "execution_count": null,
   "metadata": {},
   "outputs": [],
   "source": [
    "# Some code to convert CP2K trajectory data into Atoms objects\n",
    "class CP2K_xyz(object):\n",
    "    def __init__(self, fname, mode):\n",
    "        from molmod.io.xyz import XYZFile\n",
    "        import glob\n",
    "        \n",
    "        print(fname)\n",
    "        # Assume fname is the directory containing the pos and cell file\n",
    "        fname_pos = glob.glob(os.path.join(fname, '*.xyz'))[0] # assume it is only 1\n",
    "        fname_cell = glob.glob(os.path.join(fname, '*.cell'))[0] # assume it is only 1\n",
    "        \n",
    "        \n",
    "        #fname = os.path.splitext(fname)[0]\n",
    "        #xyz = XYZFile(fname+'.xyz')\n",
    "        xyz = XYZFile(fname_pos)\n",
    "        \n",
    "        self.geometries = xyz.geometries\n",
    "        self.numbers = xyz.numbers\n",
    "        self.symbols = xyz.symbols\n",
    "\n",
    "        if mode=='npt':\n",
    "            cell = np.loadtxt(fname_cell)[:, 2:-1]*angstrom\n",
    "            cell = cell.reshape(-1, 3, 3)\n",
    "            \n",
    "            if cell.shape[0] != self.geometries.shape[0]:\n",
    "                if cell.shape[0]>self.geometries.shape[0]:\n",
    "                    # sub sample cell\n",
    "                    print('Subsampling cell! Cell shape {}, Geometries shape {}'.format(cell.shape, self.geometries.shape))\n",
    "                    step_size = int((cell.shape[0]-1)//(self.geometries.shape[0]-1))\n",
    "                    print('Step size {}'.format(step_size))\n",
    "                    cell = cell[::step_size]\n",
    "                    print('New cell shape {}'.format(cell.shape))\n",
    "                else:\n",
    "                    raise NotImplementedError\n",
    "            \n",
    "        elif mode=='nvt':\n",
    "            cell = np.loadtxt(fname_cell)[2:-1]*angstrom\n",
    "            cell = cell.reshape(1, 3, 3)\n",
    "            cell = np.repeat(cell,len(self.geometries),axis=0)\n",
    "        else:\n",
    "            raise ValueError(\"Mode not recognized\")\n",
    "        self.cell = cell\n",
    "        \n",
    "def read_xyz_traj(fname,start=0,stop=-1,num_frames=50,mode='npt'):\n",
    "    from pyiron.atomistics.structure.atoms import Atoms\n",
    "    \n",
    "     # Load CP2K trajectory, seperate cell file\n",
    "    cp2k_xyz = CP2K_xyz(fname,mode)    \n",
    "    coords = cp2k_xyz.geometries/angstrom # in angstrom\n",
    "    rvecs  = cp2k_xyz.cell/angstrom # in angstrom\n",
    "    \n",
    "    if stop < 0:\n",
    "        stop = coords.shape[0] + stop + 1\n",
    "    else:\n",
    "        stop = min(stop, coords.shape[0])\n",
    "    if start < 0:\n",
    "        start = coords.shape[0] + start + 1\n",
    "\n",
    "    if num_frames is None:\n",
    "        num_frames = stop-start\n",
    "        \n",
    "    frames = np.linspace(start,stop,num_frames,dtype=int,endpoint=False)\n",
    "        \n",
    "    return [Atoms(positions=coords[i],numbers=cp2k_xyz.numbers,cell=rvecs[i], pbc=True) for i in frames]"
   ]
  },
  {
   "cell_type": "markdown",
   "metadata": {},
   "source": [
    "### Execution"
   ]
  },
  {
   "cell_type": "code",
   "execution_count": null,
   "metadata": {},
   "outputs": [],
   "source": [
    "# Create a project - acts as a directory to bundle all data\n",
    "pr = Project('PXRD')"
   ]
  },
  {
   "cell_type": "markdown",
   "metadata": {},
   "source": [
    "#### Static jobs"
   ]
  },
  {
   "cell_type": "code",
   "execution_count": null,
   "metadata": {},
   "outputs": [],
   "source": [
    "# Subprojects allow for easy subdivision\n",
    "pr_static = pr.create_group('static') # equivalent to pr_static = Project('PXRD/static')"
   ]
  },
  {
   "cell_type": "code",
   "execution_count": null,
   "metadata": {},
   "outputs": [],
   "source": [
    "# Load input structures (typically cifs)\n",
    "cifs = glob.glob('./input_files/PXRD/*.cif')\n",
    "structures = { \n",
    "    c.split('/')[-1].split('.')[0]  : ase_to_pyiron(read(c)) for c in cifs\n",
    "}\n",
    "\n",
    "# ase handles the conversion from most structure types"
   ]
  },
  {
   "cell_type": "code",
   "execution_count": null,
   "metadata": {},
   "outputs": [],
   "source": [
    "for k,v in structures.items():\n",
    "    static_PXRD_job(pr_static,k,v,wavelength=1.54056,rad_type=rad_type,refpattern=None,run_time=15*60)"
   ]
  },
  {
   "cell_type": "markdown",
   "metadata": {},
   "source": [
    "#### Dynamic jobs"
   ]
  },
  {
   "cell_type": "code",
   "execution_count": null,
   "metadata": {},
   "outputs": [],
   "source": [
    "# Subprojects allow for easy subdivision\n",
    "pr_dynamic = pr.create_group('dynamic') # equivalent to pr_dynamic = Project('PXRD/dynamic')"
   ]
  },
  {
   "cell_type": "code",
   "execution_count": null,
   "metadata": {},
   "outputs": [],
   "source": [
    "# this may take a while depending on the size of this file\n",
    "xyz_traj = read_xyz_traj('./input_files/PXRD/trajectory.xyz', start=1000,stop=-1,num_frames=10)"
   ]
  },
  {
   "cell_type": "code",
   "execution_count": null,
   "metadata": {},
   "outputs": [],
   "source": [
    "# Calculate dynamically averaged PXRD\n",
    "dynamic_PXRD_job(pr_dynamic,'job_name',xyz_traj,refpattern=None,start=0,stop=-1,num_frames=None) # take all frames"
   ]
  }
 ],
 "metadata": {
  "kernelspec": {
   "display_name": "Python 3 (ipykernel)",
   "language": "python",
   "name": "python3"
  },
  "language_info": {
   "codemirror_mode": {
    "name": "ipython",
    "version": 3
   },
   "file_extension": ".py",
   "mimetype": "text/x-python",
   "name": "python",
   "nbconvert_exporter": "python",
   "pygments_lexer": "ipython3",
   "version": "3.10.12"
  },
  "toc": {
   "base_numbering": 1,
   "nav_menu": {},
   "number_sections": true,
   "sideBar": true,
   "skip_h1_title": false,
   "title_cell": "Table of Contents",
   "title_sidebar": "Contents",
   "toc_cell": false,
   "toc_position": {
    "height": "calc(100% - 180px)",
    "left": "10px",
    "top": "150px",
    "width": "276px"
   },
   "toc_section_display": true,
   "toc_window_display": true
  }
 },
 "nbformat": 4,
 "nbformat_minor": 4
}
